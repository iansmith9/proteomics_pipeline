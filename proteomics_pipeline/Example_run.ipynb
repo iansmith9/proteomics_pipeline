{
 "cells": [
  {
   "cell_type": "code",
   "execution_count": null,
   "id": "47f51ef6-a127-4d7f-8cad-5c41cae35a5c",
   "metadata": {},
   "outputs": [],
   "source": [
    "from proteomics_pipeline.main import pride_repo_file_display\n",
    "files = pride_repo_file_display(path = \"C:/proteomics_pipeline/full_run_test/\",\n",
    "                       pride_repo = \"PXD038358\",\n",
    "                               file_extension = \"*.raw\")\n",
    "print(files)"
   ]
  },
  {
   "cell_type": "code",
   "execution_count": null,
   "id": "ae87c0e4-7845-4779-b914-a90ee937c256",
   "metadata": {},
   "outputs": [],
   "source": [
    "files2 = ['APEX-GABARAPL2_1.raw',\n",
    " 'APEX-GABARAPL2_2.raw',\n",
    " 'APEX-GABARAPL2_3.raw']"
   ]
  },
  {
   "cell_type": "code",
   "execution_count": null,
   "id": "d6ef4088-15de-4a21-85dc-5d74dbbe4d53",
   "metadata": {},
   "outputs": [],
   "source": [
    "from proteomics_pipeline.main import internal_repo_file_display\n",
    "help(internal_repo_file_display)\n",
    "local_files= internal_repo_file_display(path = \"C:/proteomics_pipeline/test/\",  \n",
    "                                        interal_repo_path= \"C:/proteomics_pipeline/test/mzml/\",\n",
    "                                        file_extension = \"*.mzml\")\n",
    "print(local_files)"
   ]
  },
  {
   "cell_type": "code",
   "execution_count": null,
   "id": "2dbfc5eb-3e22-4c5d-b2d8-f95814482dd7",
   "metadata": {},
   "outputs": [],
   "source": [
    "from proteomics_pipeline.main import raw_file_extract\n",
    "print(help((raw_file_extract)))\n",
    "raw_file_extract(path = \"C:/proteomics_pipeline/full_run_test/\",\n",
    "                 pride_or_internal= \"pride\",\n",
    "                 pride_repo = \"PXD038358\",\n",
    "                file_list = files2)"
   ]
  },
  {
   "cell_type": "code",
   "execution_count": null,
   "id": "10cf9e37-bf8e-45cf-81e6-3a7040262b9b",
   "metadata": {},
   "outputs": [],
   "source": [
    "from proteomics_pipeline.main import raw_to_mzml\n",
    "print(help((raw_to_mzml)))\n",
    "raw_to_mzml(path = \"C:/proteomics_pipeline/full_run_test/\",\n",
    "            path_msconvert = \"C:/Users/IanSmith/AppData/Local/Apps/ProteoWizard 3.0.23163.09bc765 64-bit/msconvert.exe\")"
   ]
  },
  {
   "cell_type": "code",
   "execution_count": null,
   "id": "0d28408f-9df0-4319-b72c-b66762b70716",
   "metadata": {},
   "outputs": [],
   "source": [
    "from proteomics_pipeline.main import db_search\n",
    "help(db_search)\n",
    "db_search(path = \"C:/proteomics_pipeline/full_run_test/\",\n",
    "          path_comet = \"C:/proteomics_pipeline/Comet/comet.win64.exe\",\n",
    "          param_default = \"human_tmt11_tryptic_itms2\",\n",
    "          species = \"human\")"
   ]
  },
  {
   "cell_type": "code",
   "execution_count": null,
   "id": "dec65ff3-54e4-403f-9705-377908a776b5",
   "metadata": {},
   "outputs": [],
   "source": [
    "from proteomics_pipeline.main import detect_ms1_features\n",
    "help(detect_ms1_features)\n",
    "detect_ms1_features(path = \"C:/proteomics_pipeline/full_run_test/\")"
   ]
  },
  {
   "cell_type": "code",
   "execution_count": null,
   "id": "e20c19f5-4482-47d6-b160-866f82d54c35",
   "metadata": {},
   "outputs": [],
   "source": [
    "from proteomics_pipeline.main import tmt_quant_function\n",
    "help(tmt_quant_function)\n",
    "tmt_quant_function(path=\"C:/proteomics_pipeline/full_run_test/\",\n",
    "                   Da_tol =0.003)"
   ]
  },
  {
   "cell_type": "code",
   "execution_count": null,
   "id": "2824e084-ef13-41fe-8897-e802fc638df6",
   "metadata": {},
   "outputs": [],
   "source": [
    "from proteomics_pipeline.main import train_fdr_model\n",
    "help(train_fdr_model)\n",
    "results = train_fdr_model(\n",
    "    path = \"C:/proteomics_pipeline/full_run_test/\",\n",
    "    fasta = None,\n",
    "    lfq_tmt = 'tmt',\n",
    "    psm_fdr = 0.01,\n",
    "    peptide_fdr = 1,\n",
    "    protein_fdr = 0.01,   \n",
    ")"
   ]
  },
  {
   "cell_type": "code",
   "execution_count": null,
   "id": "89a7cf25-ea19-4fd1-a980-3e4c2802d179",
   "metadata": {},
   "outputs": [],
   "source": [
    "from proteomics_pipeline.main import train_fdr_model\n",
    "help(train_fdr_model)\n",
    "# results = train_fdr_model(\n",
    "#     path = \"C:/proteomics_pipeline/test/\",\n",
    "#     lfq_tmt = 'lfq',\n",
    "#     psm_fdr = 0.01,\n",
    "#     peptide_fdr = 1,\n",
    "#     protein_fdr = 0.01,\n",
    "#     faims=True,\n",
    "# )"
   ]
  }
 ],
 "metadata": {
  "kernelspec": {
   "display_name": "proteomics_pipeline_beta",
   "language": "python",
   "name": "proteomics_pipeline_beta"
  },
  "language_info": {
   "codemirror_mode": {
    "name": "ipython",
    "version": 3
   },
   "file_extension": ".py",
   "mimetype": "text/x-python",
   "name": "python",
   "nbconvert_exporter": "python",
   "pygments_lexer": "ipython3",
   "version": "3.10.16"
  }
 },
 "nbformat": 4,
 "nbformat_minor": 5
}
